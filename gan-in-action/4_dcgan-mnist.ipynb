{
  "nbformat": 4,
  "nbformat_minor": 0,
  "metadata": {
    "colab": {
      "name": "dcgan_mnist.ipynb",
      "provenance": [],
      "machine_shape": "hm"
    },
    "kernelspec": {
      "name": "python3",
      "display_name": "Python 3"
    },
    "language_info": {
      "name": "python"
    },
    "accelerator": "GPU"
  },
  "cells": [
    {
      "cell_type": "code",
      "metadata": {
        "id": "-khFlHfsu8Rn"
      },
      "source": [
        "import tensorflow as tf\n",
        "from tensorflow.keras import layers\n",
        "import matplotlib.pyplot as plt"
      ],
      "execution_count": 1,
      "outputs": []
    },
    {
      "cell_type": "code",
      "metadata": {
        "colab": {
          "base_uri": "https://localhost:8080/"
        },
        "id": "-HR350Dcu_6j",
        "outputId": "655ed0ec-085d-4b64-9614-ea1309bd65bf"
      },
      "source": [
        "(train_x, _), (_, _) = tf.keras.datasets.mnist.load_data()\n",
        "train_x = (train_x - 127.5) / 127.5\n",
        "train_x = train_x.reshape(-1, 28, 28, 1).astype(\"float32\")"
      ],
      "execution_count": 2,
      "outputs": [
        {
          "output_type": "stream",
          "name": "stdout",
          "text": [
            "Downloading data from https://storage.googleapis.com/tensorflow/tf-keras-datasets/mnist.npz\n",
            "11493376/11490434 [==============================] - 0s 0us/step\n",
            "11501568/11490434 [==============================] - 0s 0us/step\n"
          ]
        }
      ]
    },
    {
      "cell_type": "code",
      "metadata": {
        "colab": {
          "base_uri": "https://localhost:8080/"
        },
        "id": "7Tex8xBDvMr5",
        "outputId": "d98724d9-c397-4884-83ac-e68f42e025f6"
      },
      "source": [
        "train_x.shape"
      ],
      "execution_count": 3,
      "outputs": [
        {
          "output_type": "execute_result",
          "data": {
            "text/plain": [
              "(60000, 28, 28, 1)"
            ]
          },
          "metadata": {},
          "execution_count": 3
        }
      ]
    },
    {
      "cell_type": "code",
      "metadata": {
        "id": "t_R9ftmFw3B9"
      },
      "source": [
        "dataset = tf.data.Dataset.from_tensor_slices(train_x).shuffle(60000).batch(256)"
      ],
      "execution_count": 4,
      "outputs": []
    },
    {
      "cell_type": "code",
      "metadata": {
        "colab": {
          "base_uri": "https://localhost:8080/",
          "height": 265
        },
        "id": "jdlp-0NZxBBC",
        "outputId": "b772080c-88ad-4738-e5fc-3c283c7529d4"
      },
      "source": [
        "for image_batch in dataset:\n",
        "    plt.imshow(image_batch[0,:,:,0], cmap='gray')\n",
        "    break"
      ],
      "execution_count": 5,
      "outputs": [
        {
          "output_type": "display_data",
          "data": {
            "image/png": "[encoded data removed]",
            "text/plain": [
              "<Figure size 432x288 with 1 Axes>"
            ]
          },
          "metadata": {
            "needs_background": "light"
          }
        }
      ]
    },
    {
      "cell_type": "code",
      "metadata": {
        "id": "WhiF6G3IvN_V"
      },
      "source": [
        "generator = tf.keras.Sequential(\n",
        "    [\n",
        "     layers.Dense(7 * 7 * 256, input_shape=(100, )),\n",
        "     layers.Reshape((7, 7, 256)),\n",
        "\n",
        "     layers.Conv2DTranspose(128, 3, strides=2, padding='same'),\n",
        "     layers.BatchNormalization(),\n",
        "     layers.LeakyReLU(alpha=0.01),\n",
        "\n",
        "     layers.Conv2DTranspose(64, 3, strides=1, padding='same'),\n",
        "     layers.BatchNormalization(),\n",
        "     layers.LeakyReLU(alpha=0.01),\n",
        "\n",
        "     layers.Conv2DTranspose(1, 3, strides=2, padding='same', activation='tanh')\n",
        "\n",
        "    ]\n",
        ")"
      ],
      "execution_count": 6,
      "outputs": []
    },
    {
      "cell_type": "code",
      "metadata": {
        "colab": {
          "base_uri": "https://localhost:8080/"
        },
        "id": "CVj8aw8Tv3uk",
        "outputId": "f179ac64-84f3-4133-935b-d581f0e90cd4"
      },
      "source": [
        "generator.summary()"
      ],
      "execution_count": 7,
      "outputs": [
        {
          "output_type": "stream",
          "name": "stdout",
          "text": [
            "Model: \"sequential\"\n",
            "_________________________________________________________________\n",
            "Layer (type)                 Output Shape              Param #   \n",
            "=================================================================\n",
            "dense (Dense)                (None, 12544)             1266944   \n",
            "_________________________________________________________________\n",
            "reshape (Reshape)            (None, 7, 7, 256)         0         \n",
            "_________________________________________________________________\n",
            "conv2d_transpose (Conv2DTran (None, 14, 14, 128)       295040    \n",
            "_________________________________________________________________\n",
            "batch_normalization (BatchNo (None, 14, 14, 128)       512       \n",
            "_________________________________________________________________\n",
            "leaky_re_lu (LeakyReLU)      (None, 14, 14, 128)       0         \n",
            "_________________________________________________________________\n",
            "conv2d_transpose_1 (Conv2DTr (None, 14, 14, 64)        73792     \n",
            "_________________________________________________________________\n",
            "batch_normalization_1 (Batch (None, 14, 14, 64)        256       \n",
            "_________________________________________________________________\n",
            "leaky_re_lu_1 (LeakyReLU)    (None, 14, 14, 64)        0         \n",
            "_________________________________________________________________\n",
            "conv2d_transpose_2 (Conv2DTr (None, 28, 28, 1)         577       \n",
            "=================================================================\n",
            "Total params: 1,637,121\n",
            "Trainable params: 1,636,737\n",
            "Non-trainable params: 384\n",
            "_________________________________________________________________\n"
          ]
        }
      ]
    },
    {
      "cell_type": "code",
      "metadata": {
        "id": "yqI4UJM8v5cX"
      },
      "source": [
        "discriminator = tf.keras.Sequential(\n",
        "    [\n",
        "     layers.Conv2D(32, 3, strides=2, input_shape=(28, 28, 1), padding='same'),\n",
        "     layers.LeakyReLU(alpha=0.01),\n",
        "\n",
        "     layers.Conv2D(64, 3, strides=2, padding='same'),\n",
        "     layers.LeakyReLU(alpha=0.01),\n",
        "\n",
        "     layers.Conv2D(128, 3, strides=2, padding='same'),\n",
        "     layers.LeakyReLU(alpha=0.01),\n",
        "\n",
        "     layers.Flatten(),\n",
        "     layers.Dense(1, activation='sigmoid')\n",
        "    ]\n",
        ")"
      ],
      "execution_count": 8,
      "outputs": []
    },
    {
      "cell_type": "code",
      "metadata": {
        "colab": {
          "base_uri": "https://localhost:8080/"
        },
        "id": "vvFK2nsYwRIL",
        "outputId": "13cce80e-b251-4695-8302-735961b834e4"
      },
      "source": [
        "discriminator.summary()"
      ],
      "execution_count": 9,
      "outputs": [
        {
          "output_type": "stream",
          "name": "stdout",
          "text": [
            "Model: \"sequential_1\"\n",
            "_________________________________________________________________\n",
            "Layer (type)                 Output Shape              Param #   \n",
            "=================================================================\n",
            "conv2d (Conv2D)              (None, 14, 14, 32)        320       \n",
            "_________________________________________________________________\n",
            "leaky_re_lu_2 (LeakyReLU)    (None, 14, 14, 32)        0         \n",
            "_________________________________________________________________\n",
            "conv2d_1 (Conv2D)            (None, 7, 7, 64)          18496     \n",
            "_________________________________________________________________\n",
            "leaky_re_lu_3 (LeakyReLU)    (None, 7, 7, 64)          0         \n",
            "_________________________________________________________________\n",
            "conv2d_2 (Conv2D)            (None, 4, 4, 128)         73856     \n",
            "_________________________________________________________________\n",
            "leaky_re_lu_4 (LeakyReLU)    (None, 4, 4, 128)         0         \n",
            "_________________________________________________________________\n",
            "flatten (Flatten)            (None, 2048)              0         \n",
            "_________________________________________________________________\n",
            "dense_1 (Dense)              (None, 1)                 2049      \n",
            "=================================================================\n",
            "Total params: 94,721\n",
            "Trainable params: 94,721\n",
            "Non-trainable params: 0\n",
            "_________________________________________________________________\n"
          ]
        }
      ]
    },
    {
      "cell_type": "code",
      "metadata": {
        "colab": {
          "base_uri": "https://localhost:8080/",
          "height": 248
        },
        "id": "40UnTHHLwT2u",
        "outputId": "d8e2a5e1-806a-40f8-87ba-5ac32b93d469"
      },
      "source": [
        "noise = tf.random.normal([1, 100])\n",
        "\n",
        "generated_image = generator(noise)\n",
        "plt.imshow(generated_image[0, :, :, 0], cmap='gray')\n",
        "plt.axis('off')\n",
        "plt.show()"
      ],
      "execution_count": 10,
      "outputs": [
        {
          "output_type": "display_data",
          "data": {
            "image/png": "[encoded data removed]",
            "text/plain": [
              "<Figure size 432x288 with 1 Axes>"
            ]
          },
          "metadata": {
            "needs_background": "light"
          }
        }
      ]
    },
    {
      "cell_type": "code",
      "metadata": {
        "colab": {
          "base_uri": "https://localhost:8080/"
        },
        "id": "YBGAJ6B8wZAc",
        "outputId": "2d5f8ac5-92d4-4f15-eede-f7c37649e245"
      },
      "source": [
        "discriminator(generated_image)"
      ],
      "execution_count": 11,
      "outputs": [
        {
          "output_type": "execute_result",
          "data": {
            "text/plain": [
              "<tf.Tensor: shape=(1, 1), dtype=float32, numpy=array([[0.50034994]], dtype=float32)>"
            ]
          },
          "metadata": {},
          "execution_count": 11
        }
      ]
    },
    {
      "cell_type": "code",
      "metadata": {
        "id": "TgrDdZCex9A3"
      },
      "source": [
        "loss_fn = tf.keras.losses.BinaryCrossentropy()\n",
        "gen_opt = tf.keras.optimizers.Adam(0.0001)\n",
        "disc_opt = tf.keras.optimizers.Adam(0.0001)"
      ],
      "execution_count": 12,
      "outputs": []
    },
    {
      "cell_type": "code",
      "metadata": {
        "colab": {
          "base_uri": "https://localhost:8080/"
        },
        "id": "B4DlKMn0wqC1",
        "outputId": "49184706-6ca3-45e6-a060-cec7dd6e4502"
      },
      "source": [
        "epochs = 40\n",
        "batch_size = 256\n",
        "\n",
        "for epoch in range(epochs):\n",
        "    for real_images in dataset:\n",
        "        with tf.GradientTape() as gen_tape, tf.GradientTape() as disc_tape:\n",
        "            fake_images = generator(tf.random.normal([batch_size, 100]))\n",
        "            fake_output = discriminator(fake_images)\n",
        "            real_output = discriminator(real_images)\n",
        "\n",
        "            disc_fake_loss = loss_fn(tf.zeros_like(fake_output), fake_output)\n",
        "            disc_real_loss = loss_fn(tf.ones_like(real_output), real_output)\n",
        "            disc_loss = disc_fake_loss + disc_real_loss\n",
        "\n",
        "            gen_loss = loss_fn(tf.ones_like(fake_output), fake_output)\n",
        "\n",
        "        graident_of_generator = gen_tape.gradient(gen_loss, generator.trainable_variables)\n",
        "        gradient_of_discriminator = disc_tape.gradient(disc_loss, discriminator.trainable_variables)\n",
        "\n",
        "        gen_opt.apply_gradients(zip(graident_of_generator, generator.trainable_variables))\n",
        "        disc_opt.apply_gradients(zip(gradient_of_discriminator, discriminator.trainable_variables))\n",
        "    \n",
        "    print(\"[ {} : {} ] G loss : {}, D loss : {}\".format(epoch+1, epochs, gen_loss, disc_loss))\n",
        "            "
      ],
      "execution_count": 19,
      "outputs": [
        {
          "output_type": "stream",
          "name": "stdout",
          "text": [
            "[ 1 : 40 ] G loss : 1.0306159257888794, D loss : 1.0804075002670288\n",
            "[ 2 : 40 ] G loss : 0.8133454918861389, D loss : 1.2628891468048096\n",
            "[ 3 : 40 ] G loss : 1.0272293090820312, D loss : 1.1039931774139404\n",
            "[ 4 : 40 ] G loss : 0.9027824997901917, D loss : 1.2415032386779785\n",
            "[ 5 : 40 ] G loss : 1.0148959159851074, D loss : 1.031999111175537\n",
            "[ 6 : 40 ] G loss : 0.9593310952186584, D loss : 1.1579711437225342\n",
            "[ 7 : 40 ] G loss : 0.95376056432724, D loss : 1.218832015991211\n",
            "[ 8 : 40 ] G loss : 0.8826498985290527, D loss : 1.227088212966919\n",
            "[ 9 : 40 ] G loss : 1.0819090604782104, D loss : 1.0418555736541748\n",
            "[ 10 : 40 ] G loss : 0.8059458136558533, D loss : 1.2849202156066895\n",
            "[ 11 : 40 ] G loss : 0.952339768409729, D loss : 1.1987284421920776\n",
            "[ 12 : 40 ] G loss : 0.875237762928009, D loss : 1.1833341121673584\n",
            "[ 13 : 40 ] G loss : 0.8726866841316223, D loss : 1.3111116886138916\n",
            "[ 14 : 40 ] G loss : 0.900804877281189, D loss : 1.1692273616790771\n",
            "[ 15 : 40 ] G loss : 0.8675101399421692, D loss : 1.1802659034729004\n",
            "[ 16 : 40 ] G loss : 0.852702796459198, D loss : 1.238081932067871\n",
            "[ 17 : 40 ] G loss : 0.8065419793128967, D loss : 1.3717982769012451\n",
            "[ 18 : 40 ] G loss : 0.852115273475647, D loss : 1.2972931861877441\n",
            "[ 19 : 40 ] G loss : 0.9090486764907837, D loss : 1.3225743770599365\n",
            "[ 20 : 40 ] G loss : 0.8691322803497314, D loss : 1.3341407775878906\n",
            "[ 21 : 40 ] G loss : 0.9742233753204346, D loss : 1.1936185359954834\n",
            "[ 22 : 40 ] G loss : 0.8306574821472168, D loss : 1.338849425315857\n",
            "[ 23 : 40 ] G loss : 0.8753007054328918, D loss : 1.4223074913024902\n",
            "[ 24 : 40 ] G loss : 0.8818274736404419, D loss : 1.260260820388794\n",
            "[ 25 : 40 ] G loss : 1.04958975315094, D loss : 1.1637613773345947\n",
            "[ 26 : 40 ] G loss : 1.04152250289917, D loss : 1.035315752029419\n",
            "[ 27 : 40 ] G loss : 1.120076060295105, D loss : 1.0768485069274902\n",
            "[ 28 : 40 ] G loss : 1.0966920852661133, D loss : 0.9886214733123779\n",
            "[ 29 : 40 ] G loss : 0.9381057620048523, D loss : 1.2369964122772217\n",
            "[ 30 : 40 ] G loss : 0.9450595378875732, D loss : 1.3098649978637695\n",
            "[ 31 : 40 ] G loss : 1.0202147960662842, D loss : 1.3576070070266724\n",
            "[ 32 : 40 ] G loss : 1.1313755512237549, D loss : 0.9762145280838013\n",
            "[ 33 : 40 ] G loss : 0.9677329659461975, D loss : 1.1785073280334473\n",
            "[ 34 : 40 ] G loss : 1.0103486776351929, D loss : 1.1083354949951172\n",
            "[ 35 : 40 ] G loss : 0.9602919816970825, D loss : 1.132896065711975\n",
            "[ 36 : 40 ] G loss : 1.0483906269073486, D loss : 1.1216456890106201\n",
            "[ 37 : 40 ] G loss : 1.107391357421875, D loss : 1.1007577180862427\n",
            "[ 38 : 40 ] G loss : 1.058422327041626, D loss : 1.0824625492095947\n",
            "[ 39 : 40 ] G loss : 1.0948402881622314, D loss : 1.0111438035964966\n",
            "[ 40 : 40 ] G loss : 1.0510342121124268, D loss : 1.041223406791687\n"
          ]
        }
      ]
    },
    {
      "cell_type": "code",
      "metadata": {
        "colab": {
          "base_uri": "https://localhost:8080/",
          "height": 248
        },
        "id": "K6XoclKtzbHa",
        "outputId": "af97470b-bc85-493d-9b12-a1c213648bf7"
      },
      "source": [
        "generated_images = generator(tf.random.normal([16, 100]))\n",
        "\n",
        "for i in range(16):\n",
        "    plt.subplot(4, 4, i+1)\n",
        "    plt.imshow((generated_images[i, :, :, 0].numpy()) * 127.5 + 127.5, cmap='gray')\n",
        "    plt.axis('off')\n",
        "plt.show()"
      ],
      "execution_count": 20,
      "outputs": [
        {
          "output_type": "display_data",
          "data": {
            "image/png": "[encoded data removed]",
            "text/plain": [
              "<Figure size 432x288 with 16 Axes>"
            ]
          },
          "metadata": {
            "needs_background": "light"
          }
        }
      ]
    },
    {
      "cell_type": "code",
      "metadata": {
        "id": "Rh-ljuYe0G4p"
      },
      "source": [
        ""
      ],
      "execution_count": null,
      "outputs": []
    }
  ]
}